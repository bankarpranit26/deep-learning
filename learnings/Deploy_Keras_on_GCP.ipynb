{
  "nbformat": 4,
  "nbformat_minor": 0,
  "metadata": {
    "colab": {
      "name": "Deploy_Keras_on_GCP.ipynb",
      "provenance": [],
      "collapsed_sections": [],
      "toc_visible": true
    },
    "kernelspec": {
      "name": "python3",
      "display_name": "Python 3"
    }
  },
  "cells": [
    {
      "cell_type": "markdown",
      "metadata": {
        "id": "U4sya_xPAP0F",
        "colab_type": "text"
      },
      "source": [
        "# Deploy Keras Models on Google Cloud Platform (GCP) and make predictions over the web"
      ]
    },
    {
      "cell_type": "markdown",
      "metadata": {
        "id": "XkHzdgzIAbpl",
        "colab_type": "text"
      },
      "source": [
        "<table class=\"tfo-notebook-buttons\" align=\"center\">\n",
        "  <td>\n",
        "    <a target=\"_blank\" href=\"https://colab.research.google.com/drive/140XQWEHsaOluFh5tyN13CI9uV0eMCkpi\">\n",
        "    <img src=\"https://www.tensorflow.org/images/colab_logo_32px.png\" />\n",
        "    Run in Google Colab</a>\n",
        "  </td>\n",
        "  <td>\n",
        "    <a target=\"_blank\" href=\"https://github.com/bankarpranit26/deep-learning/blob/master/learnings/Deploy_Keras_on_GCP.ipynb\">\n",
        "    <img src=\"https://www.tensorflow.org/images/GitHub-Mark-32px.png\" />\n",
        "    View source on GitHub</a>\n",
        "  </td>\n",
        "</table>"
      ]
    },
    {
      "cell_type": "markdown",
      "metadata": {
        "id": "o1nCgOS-AZlC",
        "colab_type": "text"
      },
      "source": [
        "## Import the required libraries"
      ]
    },
    {
      "cell_type": "code",
      "metadata": {
        "id": "BSM4irvPOLw_",
        "colab_type": "code",
        "colab": {}
      },
      "source": [
        "try:\n",
        "    %tensorflow_version 1.x\n",
        "except:\n",
        "    pass"
      ],
      "execution_count": 0,
      "outputs": []
    },
    {
      "cell_type": "code",
      "metadata": {
        "id": "P7xmpEu3Obva",
        "colab_type": "code",
        "colab": {}
      },
      "source": [
        "# TensorFlow\n",
        "import tensorflow as tf\n",
        "\n",
        "# Helper libraries\n",
        "import numpy as np\n",
        "import os\n",
        "\n",
        "from google.colab import auth as google_auth\n",
        "google_auth.authenticate_user()\n",
        "\n",
        "# tf.logging.set_verbosity(tf.logging.ERROR)\n",
        "print(tf.__version__)"
      ],
      "execution_count": 0,
      "outputs": []
    },
    {
      "cell_type": "markdown",
      "metadata": {
        "id": "GcBhOm1UAeaL",
        "colab_type": "text"
      },
      "source": [
        "## Upload, extract and load your model"
      ]
    },
    {
      "cell_type": "code",
      "metadata": {
        "id": "_wLyObyOOlam",
        "colab_type": "code",
        "colab": {}
      },
      "source": [
        "from google.colab import files\n",
        "import shutil\n",
        "\n",
        "# You can either upload your zip file in this way or go to 'Files' and upload there\n",
        "zip_name = files.upload()\n",
        "\n",
        "# This is because my zip file contains the model folder inside it.\n",
        "# Based on your zip file structure, adjust the path accordingly.\n",
        "extract_path = '/content/'\n",
        "shutil.unpack_archive(list(zip_name.keys())[0], extract_path , 'zip')"
      ],
      "execution_count": 0,
      "outputs": []
    },
    {
      "cell_type": "code",
      "metadata": {
        "id": "AX1m56EOPIV1",
        "colab_type": "code",
        "colab": {}
      },
      "source": [
        "model_path = '/content/linear_model/1'            # Your model version path\n",
        "model = tf.keras.models.load_model(model_path)"
      ],
      "execution_count": 0,
      "outputs": []
    },
    {
      "cell_type": "code",
      "metadata": {
        "id": "YaQo_4ubPgds",
        "colab_type": "code",
        "colab": {}
      },
      "source": [
        "round(model.predict([0]).tolist()[0][0])"
      ],
      "execution_count": 0,
      "outputs": []
    },
    {
      "cell_type": "markdown",
      "metadata": {
        "id": "FbdqLwFYAmfG",
        "colab_type": "text"
      },
      "source": [
        "## Deploy your model to GCP"
      ]
    },
    {
      "cell_type": "code",
      "metadata": {
        "id": "9iSHOxAXS5Hk",
        "colab_type": "code",
        "colab": {}
      },
      "source": [
        "BUCKET_NAME='bucket-2711298'\n",
        "PROJECT_NAME = 'project-2711298'\n",
        "MODEL_NAME = 'model'\n",
        "MODEL_VERSION = 'v1'\n",
        "TF_VERSION = '1.15'\n",
        "PYTHON_VERSION = '3.7'\n",
        "REGION = 'us-central1'"
      ],
      "execution_count": 0,
      "outputs": []
    },
    {
      "cell_type": "code",
      "metadata": {
        "id": "JoFilfrcdLf2",
        "colab_type": "code",
        "colab": {}
      },
      "source": [
        "GS_PATH = 'gs://' + BUCKET_NAME + '/' + MODEL_NAME\n",
        "export_path = tf.saved_model.save(model, GS_PATH)"
      ],
      "execution_count": 0,
      "outputs": []
    },
    {
      "cell_type": "code",
      "metadata": {
        "id": "vZ5EFiY5c_FY",
        "colab_type": "code",
        "colab": {}
      },
      "source": [
        "! gcloud config set project $PROJECT_NAME\n",
        "\n",
        "! gcloud ai-platform models create model --regions $REGION\n",
        "\n",
        "! gcloud ai-platform versions create $MODEL_VERSION \\\n",
        "--model $MODEL_NAME \\\n",
        "--runtime-version $TF_VERSION \\\n",
        "--python-version $PYTHON_VERSION \\\n",
        "--framework tensorflow \\\n",
        "--origin $GS_PATH"
      ],
      "execution_count": 0,
      "outputs": []
    },
    {
      "cell_type": "markdown",
      "metadata": {
        "id": "MpogIJtFArlM",
        "colab_type": "text"
      },
      "source": [
        "## Make predictions on your model"
      ]
    },
    {
      "cell_type": "code",
      "metadata": {
        "id": "uSzw4U7Dess6",
        "colab_type": "code",
        "colab": {}
      },
      "source": [
        "with open('/content/test_data.json', 'w') as f:\n",
        "  f.write('[0]')\n",
        "\n",
        "! gcloud ai-platform predict \\\n",
        "--model $MODEL_NAME \\\n",
        "--version $MODEL_VERSION \\\n",
        "--json-instances '/content/test_data.json'"
      ],
      "execution_count": 0,
      "outputs": []
    }
  ]
}