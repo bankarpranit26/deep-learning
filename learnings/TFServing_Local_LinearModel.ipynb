{
  "nbformat": 4,
  "nbformat_minor": 0,
  "metadata": {
    "colab": {
      "name": "TFServing_Local_LinearModel.ipynb",
      "provenance": [],
      "collapsed_sections": []
    },
    "kernelspec": {
      "name": "python3",
      "display_name": "Python 3"
    }
  },
  "cells": [
    {
      "cell_type": "markdown",
      "metadata": {
        "id": "5PRZp8AA5Y6M",
        "colab_type": "text"
      },
      "source": [
        "# Serving Keras Models locally using TensorFlow Serving - TF 2.x"
      ]
    },
    {
      "cell_type": "markdown",
      "metadata": {
        "id": "OUPAycGa5fzg",
        "colab_type": "text"
      },
      "source": [
        "<table class=\"tfo-notebook-buttons\" align=\"left\">\n",
        "  <td>\n",
        "    <a target=\"_blank\" href=\"https://colab.research.google.com/drive/1OaGLgnP7QXy0_C0wq0ndq7hwOVr2pEBk\">\n",
        "    <img src=\"https://www.tensorflow.org/images/colab_logo_32px.png\" />\n",
        "    Run in Google Colab</a>\n",
        "  </td>\n",
        "  <td>\n",
        "    <a target=\"_blank\" href=\"https://github.com/bankarpranit26/deep-learning/blob/master/learnings/TFServing_Local_LinearModel.ipynb\">\n",
        "    <img src=\"https://www.tensorflow.org/images/GitHub-Mark-32px.png\" />\n",
        "    View source on GitHub</a>\n",
        "  </td>\n",
        "</table>"
      ]
    },
    {
      "cell_type": "markdown",
      "metadata": {
        "id": "Gkq6FzTtu55I",
        "colab_type": "text"
      },
      "source": [
        "## Import the required libraries"
      ]
    },
    {
      "cell_type": "code",
      "metadata": {
        "id": "rgp5HZ9VZVeQ",
        "colab_type": "code",
        "colab": {}
      },
      "source": [
        "try:\n",
        "    %tensorflow_version 2.x\n",
        "except:\n",
        "    pass"
      ],
      "execution_count": 0,
      "outputs": []
    },
    {
      "cell_type": "code",
      "metadata": {
        "id": "4jL4Xlnru5I6",
        "colab_type": "code",
        "outputId": "ab5ec8fa-281c-4595-a7a1-09a862bd8151",
        "colab": {
          "base_uri": "https://localhost:8080/",
          "height": 34
        }
      },
      "source": [
        "# Helper libraries\n",
        "import numpy as np\n",
        "import os\n",
        " \n",
        "# TensorFlow\n",
        "import tensorflow as tf\n",
        " \n",
        "print(tf.__version__)"
      ],
      "execution_count": 0,
      "outputs": [
        {
          "output_type": "stream",
          "text": [
            "2.1.0\n"
          ],
          "name": "stdout"
        }
      ]
    },
    {
      "cell_type": "markdown",
      "metadata": {
        "id": "GcayWl4J5_X7",
        "colab_type": "text"
      },
      "source": [
        "## Create your dataset"
      ]
    },
    {
      "cell_type": "code",
      "metadata": {
        "id": "Pwxu9mDzaE6D",
        "colab_type": "code",
        "colab": {}
      },
      "source": [
        "X = np.arange(-10.0, 10.0, 1e-2)\n",
        "np.random.shuffle(X)\n",
        "y = 2 * X + 1\n",
        "\n",
        "train_end = int(0.6 * len(X))\n",
        "test_start = int(0.8 * len(X))\n",
        "\n",
        "X_train, y_train = X[:train_end], y[:train_end]\n",
        "X_test, y_test = X[test_start:], y[test_start:]\n",
        "X_val, y_val = X[train_end:test_start], y[train_end:test_start]"
      ],
      "execution_count": 0,
      "outputs": []
    },
    {
      "cell_type": "markdown",
      "metadata": {
        "id": "qPQmWAv_6CDP",
        "colab_type": "text"
      },
      "source": [
        "## Build, train and evaluate your model"
      ]
    },
    {
      "cell_type": "code",
      "metadata": {
        "id": "qPjAzHCFaHOn",
        "colab_type": "code",
        "outputId": "99daafe6-ea35-437f-b93a-1da0ad627ffc",
        "colab": {
          "base_uri": "https://localhost:8080/",
          "height": 185
        }
      },
      "source": [
        "tf.keras.backend.clear_session()\n",
        "linear_model = tf.keras.models.Sequential([\n",
        "                                           tf.keras.layers.Dense(units=1, input_shape=[1], name='Single')\n",
        "                                           ])\n",
        "linear_model.compile(optimizer=tf.keras.optimizers.SGD(), loss=tf.keras.losses.mean_squared_error)\n",
        "linear_model.summary()"
      ],
      "execution_count": 0,
      "outputs": [
        {
          "output_type": "stream",
          "text": [
            "Model: \"sequential\"\n",
            "_________________________________________________________________\n",
            "Layer (type)                 Output Shape              Param #   \n",
            "=================================================================\n",
            "Single (Dense)               (None, 1)                 2         \n",
            "=================================================================\n",
            "Total params: 2\n",
            "Trainable params: 2\n",
            "Non-trainable params: 0\n",
            "_________________________________________________________________\n"
          ],
          "name": "stdout"
        }
      ]
    },
    {
      "cell_type": "code",
      "metadata": {
        "id": "_hq116cdaM0n",
        "colab_type": "code",
        "outputId": "a4e40e6c-0912-4845-d80f-bd7416603189",
        "colab": {
          "base_uri": "https://localhost:8080/",
          "height": 722
        }
      },
      "source": [
        "linear_model.fit(X_train, y_train, validation_data=(X_val, y_val), epochs=20)"
      ],
      "execution_count": 0,
      "outputs": [
        {
          "output_type": "stream",
          "text": [
            "Train on 1200 samples, validate on 400 samples\n",
            "Epoch 1/20\n",
            "1200/1200 [==============================] - 0s 207us/sample - loss: 3.3458 - val_loss: 0.2471\n",
            "Epoch 2/20\n",
            "1200/1200 [==============================] - 0s 52us/sample - loss: 0.1272 - val_loss: 0.0507\n",
            "Epoch 3/20\n",
            "1200/1200 [==============================] - 0s 53us/sample - loss: 0.0269 - val_loss: 0.0113\n",
            "Epoch 4/20\n",
            "1200/1200 [==============================] - 0s 55us/sample - loss: 0.0059 - val_loss: 0.0024\n",
            "Epoch 5/20\n",
            "1200/1200 [==============================] - 0s 58us/sample - loss: 0.0013 - val_loss: 5.6192e-04\n",
            "Epoch 6/20\n",
            "1200/1200 [==============================] - 0s 60us/sample - loss: 2.7485e-04 - val_loss: 1.1049e-04\n",
            "Epoch 7/20\n",
            "1200/1200 [==============================] - 0s 53us/sample - loss: 5.8416e-05 - val_loss: 2.3724e-05\n",
            "Epoch 8/20\n",
            "1200/1200 [==============================] - 0s 53us/sample - loss: 1.2632e-05 - val_loss: 5.3810e-06\n",
            "Epoch 9/20\n",
            "1200/1200 [==============================] - 0s 55us/sample - loss: 2.7412e-06 - val_loss: 1.2333e-06\n",
            "Epoch 10/20\n",
            "1200/1200 [==============================] - 0s 55us/sample - loss: 5.9486e-07 - val_loss: 2.4096e-07\n",
            "Epoch 11/20\n",
            "1200/1200 [==============================] - 0s 60us/sample - loss: 1.2712e-07 - val_loss: 5.3264e-08\n",
            "Epoch 12/20\n",
            "1200/1200 [==============================] - 0s 49us/sample - loss: 2.7826e-08 - val_loss: 1.1280e-08\n",
            "Epoch 13/20\n",
            "1200/1200 [==============================] - 0s 50us/sample - loss: 6.0491e-09 - val_loss: 2.4489e-09\n",
            "Epoch 14/20\n",
            "1200/1200 [==============================] - 0s 52us/sample - loss: 1.2877e-09 - val_loss: 5.4930e-10\n",
            "Epoch 15/20\n",
            "1200/1200 [==============================] - 0s 50us/sample - loss: 2.7906e-10 - val_loss: 1.1486e-10\n",
            "Epoch 16/20\n",
            "1200/1200 [==============================] - 0s 51us/sample - loss: 6.0680e-11 - val_loss: 2.5043e-11\n",
            "Epoch 17/20\n",
            "1200/1200 [==============================] - 0s 53us/sample - loss: 1.3442e-11 - val_loss: 5.4717e-12\n",
            "Epoch 18/20\n",
            "1200/1200 [==============================] - 0s 50us/sample - loss: 2.8894e-12 - val_loss: 1.9323e-12\n",
            "Epoch 19/20\n",
            "1200/1200 [==============================] - 0s 51us/sample - loss: 1.8998e-12 - val_loss: 1.8893e-12\n",
            "Epoch 20/20\n",
            "1200/1200 [==============================] - 0s 53us/sample - loss: 1.8709e-12 - val_loss: 3.3315e-12\n"
          ],
          "name": "stdout"
        },
        {
          "output_type": "execute_result",
          "data": {
            "text/plain": [
              "<tensorflow.python.keras.callbacks.History at 0x7ff983a31b38>"
            ]
          },
          "metadata": {
            "tags": []
          },
          "execution_count": 14
        }
      ]
    },
    {
      "cell_type": "code",
      "metadata": {
        "id": "kV_WgIf7aUb5",
        "colab_type": "code",
        "outputId": "32a5200f-4f99-4d62-c714-fe98e167769a",
        "colab": {
          "base_uri": "https://localhost:8080/",
          "height": 34
        }
      },
      "source": [
        "linear_model.evaluate(X_test, y_test, verbose=0)"
      ],
      "execution_count": 0,
      "outputs": [
        {
          "output_type": "execute_result",
          "data": {
            "text/plain": [
              "3.2077078840342387e-12"
            ]
          },
          "metadata": {
            "tags": []
          },
          "execution_count": 15
        }
      ]
    },
    {
      "cell_type": "code",
      "metadata": {
        "id": "aFlzUCa_aO-4",
        "colab_type": "code",
        "outputId": "9102c8c3-f2bf-4229-9d1b-dbda87d9b9c4",
        "colab": {
          "base_uri": "https://localhost:8080/",
          "height": 34
        }
      },
      "source": [
        "round(linear_model.predict([7.443]).tolist()[0][0], 4)\n",
        "# 15.886"
      ],
      "execution_count": 0,
      "outputs": [
        {
          "output_type": "execute_result",
          "data": {
            "text/plain": [
              "15.886"
            ]
          },
          "metadata": {
            "tags": []
          },
          "execution_count": 16
        }
      ]
    },
    {
      "cell_type": "markdown",
      "metadata": {
        "id": "ZFYMAO0q6IJV",
        "colab_type": "text"
      },
      "source": [
        "## Download your model in SavedModel format"
      ]
    },
    {
      "cell_type": "code",
      "metadata": {
        "id": "tnkfucBGbrOd",
        "colab_type": "code",
        "outputId": "5184fd14-8cc5-4a6a-9120-3ec69533cb97",
        "colab": {
          "base_uri": "https://localhost:8080/",
          "height": 34
        }
      },
      "source": [
        "export_path = 'linear_model/1/'\n",
        "tf.saved_model.save(linear_model, os.path.join('/content/',export_path))"
      ],
      "execution_count": 0,
      "outputs": [
        {
          "output_type": "stream",
          "text": [
            "INFO:tensorflow:Assets written to: /content/linear_model/1/assets\n"
          ],
          "name": "stdout"
        }
      ]
    },
    {
      "cell_type": "code",
      "metadata": {
        "id": "Dp7zgOBYZ4Dj",
        "colab_type": "code",
        "outputId": "7878ac02-52da-4d24-9df5-babc3ada08fb",
        "colab": {
          "base_uri": "https://localhost:8080/",
          "height": 118
        }
      },
      "source": [
        "from google.colab import files\n",
        "download_path = '/content/my_linear_model.zip'\n",
        "!zip -r {download_path} {export_path}\n",
        "files.download(download_path)"
      ],
      "execution_count": 0,
      "outputs": [
        {
          "output_type": "stream",
          "text": [
            "  adding: linear_model/1/ (stored 0%)\n",
            "  adding: linear_model/1/assets/ (stored 0%)\n",
            "  adding: linear_model/1/saved_model.pb (deflated 85%)\n",
            "  adding: linear_model/1/variables/ (stored 0%)\n",
            "  adding: linear_model/1/variables/variables.data-00000-of-00001 (deflated 61%)\n",
            "  adding: linear_model/1/variables/variables.index (deflated 41%)\n"
          ],
          "name": "stdout"
        }
      ]
    }
  ]
}